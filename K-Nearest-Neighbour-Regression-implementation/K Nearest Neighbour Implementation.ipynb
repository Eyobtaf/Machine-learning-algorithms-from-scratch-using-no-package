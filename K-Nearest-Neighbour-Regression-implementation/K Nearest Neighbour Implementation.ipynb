{
 "cells": [
  {
   "cell_type": "markdown",
   "metadata": {},
   "source": [
    "# Predicting house prices using k-nearest neighbors regression\n",
    "\n",
    "  * Find the k-nearest neighbors of a given query input\n",
    "  * Predict the output for the query input using the k-nearest neighbors\n",
    "  * Choose the best value of k using a validation set"
   ]
  },
  {
   "cell_type": "code",
   "execution_count": 6,
   "metadata": {
    "collapsed": false
   },
   "outputs": [],
   "source": [
    "import graphlab"
   ]
  },
  {
   "cell_type": "markdown",
   "metadata": {},
   "source": [
    "# Load in house sales data"
   ]
  },
  {
   "cell_type": "markdown",
   "metadata": {},
   "source": [
    "For this notebook, we use a subset of the King County housing dataset created by randomly selecting 40% of the houses in the full dataset."
   ]
  },
  {
   "cell_type": "code",
   "execution_count": 7,
   "metadata": {
    "collapsed": false
   },
   "outputs": [],
   "source": [
    "sales = graphlab.SFrame('kc_house_data_small.gl/')"
   ]
  },
  {
   "cell_type": "markdown",
   "metadata": {},
   "source": [
    "# Import useful functions from previous notebooks"
   ]
  },
  {
   "cell_type": "markdown",
   "metadata": {},
   "source": [
    "To efficiently compute pairwise distances among data points, we will convert the SFrame into a 2D Numpy array. First import the numpy library and then copy and paste `get_numpy_data()` from the second notebook of Week 2."
   ]
  },
  {
   "cell_type": "code",
   "execution_count": 8,
   "metadata": {
    "collapsed": true
   },
   "outputs": [],
   "source": [
    "import numpy as np # note this allows us to refer to numpy as np instead"
   ]
  },
  {
   "cell_type": "code",
   "execution_count": 9,
   "metadata": {
    "collapsed": true
   },
   "outputs": [],
   "source": [
    "def get_numpy_data(data_sframe, features, output):\n",
    "    data_sframe['constant'] = 1 # this is how you add a constant column to an SFrame\n",
    "    # add the column 'constant' to the front of the features list so that we can extract it along with the others:\n",
    "    features = ['constant'] + features # this is how you combine two lists\n",
    "    # select the columns of data_SFrame given by the features list into the SFrame features_sframe (now including constant):\n",
    "    features_sframe = data_sframe[features]  \n",
    "    # the following line will convert the features_SFrame into a numpy matrix:\n",
    "    feature_matrix = features_sframe.to_numpy()\n",
    "    # assign the column of data_sframe associated with the output to the SArray output_sarray\n",
    "    output_sarray = data_sframe['price'] \n",
    "    # the following will convert the SArray into a numpy array by first converting it to a list\n",
    "    output_array = output_sarray.to_numpy()\n",
    "    return(feature_matrix, output_array)"
   ]
  },
  {
   "cell_type": "markdown",
   "metadata": {},
   "source": [
    "We will also need the `normalize_features()` function from Week 5 that normalizes all feature columns to unit norm. Paste this function below."
   ]
  },
  {
   "cell_type": "code",
   "execution_count": 10,
   "metadata": {
    "collapsed": true
   },
   "outputs": [],
   "source": [
    "def normalize_features(feature_matrix):\n",
    "    norms = np.linalg.norm(feature_matrix, axis=0)\n",
    "    normalized_features= feature_matrix/norms\n",
    "    return (normalized_features, norms)"
   ]
  },
  {
   "cell_type": "markdown",
   "metadata": {},
   "source": [
    "# Split data into training, test, and validation sets"
   ]
  },
  {
   "cell_type": "code",
   "execution_count": 11,
   "metadata": {
    "collapsed": false
   },
   "outputs": [],
   "source": [
    "(train_and_validation, test) = sales.random_split(.8, seed=1) # initial train/test split\n",
    "(train, validation) = train_and_validation.random_split(.8, seed=1) # split training set into training and validation sets"
   ]
  },
  {
   "cell_type": "markdown",
   "metadata": {},
   "source": [
    "# Extract features and normalize"
   ]
  },
  {
   "cell_type": "markdown",
   "metadata": {},
   "source": [
    "Using all of the numerical inputs listed in `feature_list`, transform the training, test, and validation SFrames into Numpy arrays:"
   ]
  },
  {
   "cell_type": "code",
   "execution_count": 12,
   "metadata": {
    "collapsed": false
   },
   "outputs": [],
   "source": [
    "feature_list = ['bedrooms',  \n",
    "                'bathrooms',  \n",
    "                'sqft_living',  \n",
    "                'sqft_lot',  \n",
    "                'floors',\n",
    "                'waterfront',  \n",
    "                'view',  \n",
    "                'condition',  \n",
    "                'grade',  \n",
    "                'sqft_above',  \n",
    "                'sqft_basement',\n",
    "                'yr_built',  \n",
    "                'yr_renovated',  \n",
    "                'lat',  \n",
    "                'long',  \n",
    "                'sqft_living15',  \n",
    "                'sqft_lot15']\n",
    "features_train, output_train = get_numpy_data(train, feature_list, 'price')\n",
    "features_test, output_test = get_numpy_data(test, feature_list, 'price')\n",
    "features_valid, output_valid = get_numpy_data(validation, feature_list, 'price')"
   ]
  },
  {
   "cell_type": "markdown",
   "metadata": {},
   "source": [
    "In computing distances, it is crucial to normalize features. Otherwise, for example, the `sqft_living` feature (typically on the order of thousands) would exert a much larger influence on distance than the `bedrooms` feature (typically on the order of ones). We divide each column of the training feature matrix by its 2-norm, so that the transformed column has unit norm.\n"
   ]
  },
  {
   "cell_type": "code",
   "execution_count": 13,
   "metadata": {
    "collapsed": true
   },
   "outputs": [],
   "source": [
    "features_train, norms = normalize_features(features_train) # normalize training set features (columns)\n",
    "features_test = features_test / norms # normalize test set by training set norms\n",
    "features_valid = features_valid / norms # normalize validation set by training set norms"
   ]
  },
  {
   "cell_type": "markdown",
   "metadata": {},
   "source": [
    "# Compute a single distance"
   ]
  },
  {
   "cell_type": "markdown",
   "metadata": {},
   "source": [
    "To start, let's just explore computing the \"distance\" between two given houses.  We will take our **query house** to be the first house of the test set and look at the distance between this house and the 10th house of the training set.\n",
    "\n",
    "To see the features associated with the query house, print the first row (index 0) of the test feature matrix. You should get an 18-dimensional vector whose components are between 0 and 1."
   ]
  },
  {
   "cell_type": "code",
   "execution_count": 20,
   "metadata": {
    "collapsed": false
   },
   "outputs": [
    {
     "data": {
      "text/plain": [
       "18"
      ]
     },
     "execution_count": 20,
     "metadata": {},
     "output_type": "execute_result"
    }
   ],
   "source": [
    "query_house = features_test[0]#first house in test set\n",
    "query_house.shape[0]"
   ]
  },
  {
   "cell_type": "markdown",
   "metadata": {},
   "source": [
    "Now print the 10th row (index 9) of the training feature matrix. Again, you get an 18-dimensional vector with components between 0 and 1."
   ]
  },
  {
   "cell_type": "code",
   "execution_count": 21,
   "metadata": {
    "collapsed": false,
    "scrolled": false
   },
   "outputs": [
    {
     "data": {
      "text/plain": [
       "array([ 0.01345102,  0.01163464,  0.00602491,  0.0083488 ,  0.00050756,\n",
       "        0.01279425,  0.        ,  0.        ,  0.01938684,  0.01390535,\n",
       "        0.0096309 ,  0.        ,  0.01302544,  0.        ,  0.01346821,\n",
       "       -0.01346254,  0.01195898,  0.00156612])"
      ]
     },
     "execution_count": 21,
     "metadata": {},
     "output_type": "execute_result"
    }
   ],
   "source": [
    "tenth_train_house= features_train[9]\n",
    "tenth_train_house"
   ]
  },
  {
   "cell_type": "code",
   "execution_count": 22,
   "metadata": {
    "collapsed": false
   },
   "outputs": [],
   "source": [
    "def Calculate_Euclidean_distance (query,target):\n",
    "    #dist = []\n",
    "    dist = (query - target)**2\n",
    "    dist = np.sum(dist)\n",
    "    dist = (np.sqrt(dist))\n",
    "    return dist\n"
   ]
  },
  {
   "cell_type": "code",
   "execution_count": 23,
   "metadata": {
    "collapsed": false
   },
   "outputs": [
    {
     "name": "stdout",
     "output_type": "stream",
     "text": [
      "0.0597235937167\n"
     ]
    }
   ],
   "source": [
    "x = (Calculate_Euclidean_distance (features_test[0],features_train[9]))\n",
    "print x"
   ]
  },
  {
   "cell_type": "code",
   "execution_count": 24,
   "metadata": {
    "collapsed": false
   },
   "outputs": [
    {
     "name": "stdout",
     "output_type": "stream",
     "text": [
      "0.0597235937167\n"
     ]
    }
   ],
   "source": [
    "from scipy.spatial import distance\n",
    "\n",
    "dst = distance.euclidean(features_test[0],features_train[9])\n",
    "print dst"
   ]
  },
  {
   "cell_type": "code",
   "execution_count": 25,
   "metadata": {
    "collapsed": false
   },
   "outputs": [
    {
     "name": "stdout",
     "output_type": "stream",
     "text": [
      "0.0597235937167\n"
     ]
    }
   ],
   "source": [
    "distances = (features_test[0]-features_train[9])**2\n",
    "distances = distances.sum(axis=-1)\n",
    "distances = np.sqrt(distances)\n",
    "print distances"
   ]
  },
  {
   "cell_type": "markdown",
   "metadata": {},
   "source": [
    "# Compute multiple distances"
   ]
  },
  {
   "cell_type": "code",
   "execution_count": 27,
   "metadata": {
    "collapsed": false
   },
   "outputs": [
    {
     "data": {
      "text/plain": [
       "0.059723593716661257"
      ]
     },
     "execution_count": 27,
     "metadata": {},
     "output_type": "execute_result"
    }
   ],
   "source": [
    "dist = Calculate_Euclidean_distance(query_house,tenth_train_house)\n",
    "dist"
   ]
  },
  {
   "cell_type": "markdown",
   "metadata": {},
   "source": [
    "Of course, to do nearest neighbor regression, we need to compute the distance between our query house and *all* houses in the training set.  \n",
    "\n",
    "To visualize this nearest-neighbor search, let's first compute the distance from our query house (`features_test[0]`) to the first 10 houses of the training set (`features_train[0:10]`) and then search for the nearest neighbor within this small set of houses.  Through restricting ourselves to a small set of houses to begin with, we can visually scan the list of 10 distances to verify that our code for finding the nearest neighbor is working.\n"
   ]
  },
  {
   "cell_type": "markdown",
   "metadata": {},
   "source": [
    "\n",
    "\n",
    "Among the first 10 training houses, house is the closest to the query house is : "
   ]
  },
  {
   "cell_type": "code",
   "execution_count": 28,
   "metadata": {
    "collapsed": false
   },
   "outputs": [
    {
     "name": "stdout",
     "output_type": "stream",
     "text": [
      "distance from 1 th point is : 0.060274709173\n",
      "distance from 2 th point is : 0.0854688114883\n",
      "distance from 3 th point is : 0.0614994643712\n",
      "distance from 4 th point is : 0.0534027397882\n",
      "distance from 5 th point is : 0.0584448406394\n",
      "distance from 6 th point is : 0.0598792151018\n",
      "distance from 7 th point is : 0.0546314049726\n",
      "distance from 8 th point is : 0.0554310832416\n",
      "distance from 9 th point is : 0.052383627841\n",
      "distance from 10 th point is : 0.0597235937167\n",
      "9\n",
      "[0.0602747091729555, 0.085468811488270832, 0.061499464371202843, 0.053402739788200579, 0.058444840639381393, 0.059879215101840008, 0.054631404972615261, 0.055431083241597921, 0.052383627840972731, 0.059723593716661257]\n"
     ]
    }
   ],
   "source": [
    "arr = []\n",
    "for i in range(10):\n",
    "    dist =Calculate_Euclidean_distance (features_test[0],features_train[i])\n",
    "    print \"distance from\",i+1,\"th point is :\",dist\n",
    "    arr.append(dist)\n",
    "print arr.index(min(arr))  +1# index of closet house +1 \n",
    "print arr"
   ]
  },
  {
   "cell_type": "code",
   "execution_count": 359,
   "metadata": {
    "collapsed": false
   },
   "outputs": [
    {
     "name": "stdout",
     "output_type": "stream",
     "text": [
      "[8 3 6 7 4 9 5 0 2 1]\n"
     ]
    }
   ],
   "source": [
    "print np.argsort(arr) # so 2nd house is closest"
   ]
  },
  {
   "cell_type": "markdown",
   "metadata": {},
   "source": [
    "It is computationally inefficient to loop over computing distances to all houses in our training dataset. Fortunately, many of the Numpy functions can be **vectorized**, applying the same operation over multiple values or vectors.  We now walk through this process."
   ]
  },
  {
   "cell_type": "markdown",
   "metadata": {},
   "source": [
    "Consider the following loop that computes the element-wise difference between the features of the query house (`features_test[0]`) and the first 3 training houses (`features_train[0:3]`):"
   ]
  },
  {
   "cell_type": "markdown",
   "metadata": {},
   "source": [
    "The subtraction operator (`-`) in Numpy is vectorized as follows:"
   ]
  },
  {
   "cell_type": "code",
   "execution_count": 361,
   "metadata": {
    "collapsed": false
   },
   "outputs": [
    {
     "name": "stdout",
     "output_type": "stream",
     "text": [
      "[[  0.00000000e+00  -3.87821276e-03  -1.20498190e-02  -1.05552733e-02\n",
      "    2.08673616e-04  -8.52950206e-03   0.00000000e+00  -5.10236549e-02\n",
      "    0.00000000e+00  -3.47633726e-03  -5.50336860e-03  -2.48168183e-02\n",
      "   -1.63756198e-04   0.00000000e+00  -1.70072004e-05   1.30577772e-05\n",
      "   -5.14364795e-03   6.69281453e-04]\n",
      " [  0.00000000e+00  -3.87821276e-03  -4.51868214e-03  -2.26610387e-03\n",
      "    7.19763456e-04   0.00000000e+00   0.00000000e+00  -5.10236549e-02\n",
      "    0.00000000e+00  -3.47633726e-03   1.30705004e-03  -1.45830788e-02\n",
      "   -1.91048898e-04   6.65082271e-02   4.23240653e-05   6.22415897e-06\n",
      "   -2.89330197e-03   1.47606982e-03]\n",
      " [  0.00000000e+00  -7.75642553e-03  -1.20498190e-02  -1.30002801e-02\n",
      "    1.60518166e-03  -8.52950206e-03   0.00000000e+00  -5.10236549e-02\n",
      "    0.00000000e+00  -5.21450589e-03  -8.32384500e-03  -2.48168183e-02\n",
      "   -3.13866046e-04   0.00000000e+00   4.71047219e-05   1.56530415e-05\n",
      "    3.72914476e-03   1.64764925e-03]]\n"
     ]
    }
   ],
   "source": [
    "print features_train[0:3] - features_test[0]"
   ]
  },
  {
   "cell_type": "markdown",
   "metadata": {},
   "source": [
    "Note that the output of this vectorized operation is identical to that of the loop above, which can be verified below:"
   ]
  },
  {
   "cell_type": "code",
   "execution_count": 362,
   "metadata": {
    "collapsed": false
   },
   "outputs": [
    {
     "name": "stdout",
     "output_type": "stream",
     "text": [
      "[[  0.00000000e+00  -3.87821276e-03  -1.20498190e-02  -1.05552733e-02\n",
      "    2.08673616e-04  -8.52950206e-03   0.00000000e+00  -5.10236549e-02\n",
      "    0.00000000e+00  -3.47633726e-03  -5.50336860e-03  -2.48168183e-02\n",
      "   -1.63756198e-04   0.00000000e+00  -1.70072004e-05   1.30577772e-05\n",
      "   -5.14364795e-03   6.69281453e-04]\n",
      " [  0.00000000e+00  -3.87821276e-03  -4.51868214e-03  -2.26610387e-03\n",
      "    7.19763456e-04   0.00000000e+00   0.00000000e+00  -5.10236549e-02\n",
      "    0.00000000e+00  -3.47633726e-03   1.30705004e-03  -1.45830788e-02\n",
      "   -1.91048898e-04   6.65082271e-02   4.23240653e-05   6.22415897e-06\n",
      "   -2.89330197e-03   1.47606982e-03]\n",
      " [  0.00000000e+00  -7.75642553e-03  -1.20498190e-02  -1.30002801e-02\n",
      "    1.60518166e-03  -8.52950206e-03   0.00000000e+00  -5.10236549e-02\n",
      "    0.00000000e+00  -5.21450589e-03  -8.32384500e-03  -2.48168183e-02\n",
      "   -3.13866046e-04   0.00000000e+00   4.71047219e-05   1.56530415e-05\n",
      "    3.72914476e-03   1.64764925e-03]]\n",
      "[ 0.  0.  0.  0.  0.  0.  0.  0.  0.  0.  0.  0.  0.  0.  0.  0.  0.  0.]\n",
      "[ 0.  0.  0.  0.  0.  0.  0.  0.  0.  0.  0.  0.  0.  0.  0.  0.  0.  0.]\n",
      "[ 0.  0.  0.  0.  0.  0.  0.  0.  0.  0.  0.  0.  0.  0.  0.  0.  0.  0.]\n"
     ]
    }
   ],
   "source": [
    "# verify that vectorization works\n",
    "results = features_train[0:3] - features_test[0]\n",
    "print results\n",
    "print results[0] - (features_train[0]-features_test[0])\n",
    "# should print all 0's if results[0] == (features_train[0]-features_test[0])\n",
    "print results[1] - (features_train[1]-features_test[0])\n",
    "# should print all 0's if results[1] == (features_train[1]-features_test[0])\n",
    "print results[2] - (features_train[2]-features_test[0])\n",
    "# should print all 0's if results[2] == (features_train[2]-features_test[0])"
   ]
  },
  {
   "cell_type": "markdown",
   "metadata": {},
   "source": [
    "# Perform 1-nearest neighbor regression\n",
    "\n",
    "Now that we have the element-wise differences, it is not too hard to compute the Euclidean distances between our query house and all of the training houses. First, write a single-line expression to define a variable `diff` such that `diff[i]` gives the element-wise difference between the features of the query house and the `i`-th training house."
   ]
  },
  {
   "cell_type": "code",
   "execution_count": 363,
   "metadata": {
    "collapsed": false
   },
   "outputs": [
    {
     "name": "stdout",
     "output_type": "stream",
     "text": [
      "5527\n"
     ]
    }
   ],
   "source": [
    "print features_train.shape[0]"
   ]
  },
  {
   "cell_type": "code",
   "execution_count": 364,
   "metadata": {
    "collapsed": false
   },
   "outputs": [],
   "source": [
    "diff =[]\n",
    "for i in xrange(features_train.shape[0]):\n",
    "    dist = features_train[i]-features_test[0]\n",
    "    diff.append(dist)\n",
    "    \n",
    "    # should print 3 vectors of length 18"
   ]
  },
  {
   "cell_type": "markdown",
   "metadata": {},
   "source": [
    "To test the code above, run the following cell, which should output a value -0.0934339605842:"
   ]
  },
  {
   "cell_type": "code",
   "execution_count": 365,
   "metadata": {
    "collapsed": false
   },
   "outputs": [
    {
     "name": "stdout",
     "output_type": "stream",
     "text": [
      "-0.0934339605842\n",
      "-0.0934339605842\n"
     ]
    }
   ],
   "source": [
    "print diff[-1].sum() # sum of the feature differences between the query and last training house\n",
    "# should print -0.0934339605842\n",
    "print (features_train[-1]-features_test[0]).sum()"
   ]
  },
  {
   "cell_type": "markdown",
   "metadata": {},
   "source": [
    "The next step in computing the Euclidean distances is to take these feature-by-feature differences in `diff`, square each, and take the sum over feature indices.  That is, compute the sum of square feature differences for each training house (row in `diff`).\n",
    "\n",
    "By default, `np.sum` sums up everything in the matrix and returns a single number. To instead sum only over a row or column, we need to specifiy the `axis` parameter described in the `np.sum` [documentation](http://docs.scipy.org/doc/numpy-1.10.1/reference/generated/numpy.sum.html). In particular, `axis=1` computes the sum across each row.\n",
    "\n",
    "Below, we compute this sum of square feature differences for all training houses and verify that the output for the 16th house in the training set is equivalent to having examined only the 16th row of `diff` and computing the sum of squares on that row alone."
   ]
  },
  {
   "cell_type": "code",
   "execution_count": 368,
   "metadata": {
    "collapsed": false
   },
   "outputs": [
    {
     "name": "stdout",
     "output_type": "stream",
     "text": [
      "0.00330705902879\n",
      "0.00330705902879\n",
      "0.00330705902879\n"
     ]
    }
   ],
   "source": [
    "print np.sum(np.multiply(diff,diff), axis=1)[15] # take sum of squares across each row, and print the 16th sum\n",
    "print np.sum(np.power(diff,2), axis=1)[15] # take sum of squares across each row, and print the 16th sum\n",
    "\n",
    "print np.sum(diff[15]**2) # print the sum of squares for the 16th row -- should be same as above"
   ]
  },
  {
   "cell_type": "markdown",
   "metadata": {},
   "source": [
    "With this result in mind, write a single-line expression to compute the Euclidean distances between the query house and all houses in the training set. Assign the result to a variable `distances`.\n",
    "\n"
   ]
  },
  {
   "cell_type": "code",
   "execution_count": 369,
   "metadata": {
    "collapsed": false
   },
   "outputs": [],
   "source": [
    "distances=[]\n",
    "for i in range(features_train.shape[0]):\n",
    "    distances.append(np.sqrt(np.sum((features_train[i]-features_test[0])**2)))\n",
    "#print diff_arr "
   ]
  },
  {
   "cell_type": "markdown",
   "metadata": {},
   "source": [
    "To test the code above, run the following cell, which should output a value 0.0237082324496:"
   ]
  },
  {
   "cell_type": "code",
   "execution_count": 370,
   "metadata": {
    "collapsed": false
   },
   "outputs": [
    {
     "name": "stdout",
     "output_type": "stream",
     "text": [
      "0.0237082324496\n"
     ]
    }
   ],
   "source": [
    "print distances[100] # Euclidean distance between the query house and the 101th training house\n",
    "# should print 0.0237082324496"
   ]
  },
  {
   "cell_type": "markdown",
   "metadata": {},
   "source": [
    "Now you are ready to write a function that computes the distances from a query house to all training houses. The function should take two parameters: (i) the matrix of training features and (ii) the single feature vector associated with the query."
   ]
  },
  {
   "cell_type": "code",
   "execution_count": 379,
   "metadata": {
    "collapsed": false
   },
   "outputs": [
    {
     "data": {
      "text/plain": [
       "5527"
      ]
     },
     "execution_count": 379,
     "metadata": {},
     "output_type": "execute_result"
    }
   ],
   "source": [
    "features_train.shape[0]"
   ]
  },
  {
   "cell_type": "code",
   "execution_count": 386,
   "metadata": {
    "collapsed": true
   },
   "outputs": [],
   "source": [
    "def Calculate_Euclidean_distance_s(query,features_train):\n",
    "    distances=[]\n",
    "    \n",
    "    for i in xrange(5527):\n",
    "        x= Calculate_Euclidean_distance(query,features_train[i])\n",
    "        distances.append(x)\n",
    "    return distances\n"
   ]
  },
  {
   "cell_type": "code",
   "execution_count": 388,
   "metadata": {
    "collapsed": false
   },
   "outputs": [
    {
     "name": "stdout",
     "output_type": "stream",
     "text": [
      "382\n",
      "Closest match i.e. closest distance 1-NN = predicted value for 1-NN:  249000\n"
     ]
    }
   ],
   "source": [
    "distances = (Calculate_Euclidean_distance_s(features_test[2],features_train))\n",
    "\n",
    "\n",
    "print distances.index(min(distances))\n",
    "#print features_train[382]\n",
    "print \"Closest match i.e. closest distance 1-NN = predicted value for 1-NN: \",output_train[distances.index(min(distances))]"
   ]
  },
  {
   "cell_type": "markdown",
   "metadata": {},
   "source": [
    "## Perform k-nearest neighbor regression"
   ]
  },
  {
   "cell_type": "markdown",
   "metadata": {},
   "source": [
    "For k-nearest neighbors, we need to find a *set* of k houses in the training set closest to a given query house. We then make predictions based on these k nearest neighbors."
   ]
  },
  {
   "cell_type": "markdown",
   "metadata": {},
   "source": [
    "## Fetch k-nearest neighbors\n",
    "\n",
    "Using the functions above, implement a function that takes in\n",
    " * the value of k;\n",
    " * the feature matrix for the training houses; and\n",
    " * the feature vector of the query house\n",
    " \n",
    "and returns the indices of the k closest training houses. For instance, with 2-nearest neighbor, a return value of [5, 10] would indicate that the 6th and 11th training houses are closest to the query house.\n"
   ]
  },
  {
   "cell_type": "code",
   "execution_count": 29,
   "metadata": {
    "collapsed": false
   },
   "outputs": [],
   "source": [
    "def partition_insert(k, Dist_Array, distance):\n",
    "    Dist_Array_indexarr = np.argsort(Dist_Array)\n",
    "    \n",
    "    if (distance<Dist_Array[k-1]):\n",
    "        condition = False\n",
    "        j=0\n",
    "        while (j<k and condition==False) :\n",
    "            if (distance<Dist_Array[j]):\n",
    "                #print j                \n",
    "                Dist_Array[j+1:k]= Dist_Array[j:k-1]\n",
    "                Dist_Array[j]=distance\n",
    "                condition=True\n",
    "            else:\n",
    "                j=j+1\n",
    "    return Dist_Array             \n",
    "                    \n",
    "                \n",
    "        \n",
    "        \n",
    "    "
   ]
  },
  {
   "cell_type": "code",
   "execution_count": 30,
   "metadata": {
    "collapsed": false
   },
   "outputs": [],
   "source": [
    "def KClosest_Training_Houses_test(k,Dist_Array):\n",
    "    Dist2kNN =[]\n",
    "    Dist2kNN =[]\n",
    "    for a in range(k):\n",
    "        #dist =Calculate_Euclidean_distance (query_house,training_houses_feature_matrix[a])\n",
    "        Dist2kNN.append(Dist_Array[a])\n",
    "    print \"Dist2kNN arr: \",Dist2kNN\n",
    "    Dist2kNN_indexarr = np.argsort(Dist2kNN)\n",
    "    print \"sorted index arr: \",Dist2kNN_indexarr\n",
    "\n",
    "    for i in range(k, k+1): \n",
    "        print k,Dist2kNN[Dist2kNN_indexarr[k-1]],Dist2kNN_indexarr[k-1]\n",
    "        dist_temp = Dist_Array[k]\n",
    "        print dist_temp\n",
    "        if (dist_temp<Dist2kNN[Dist2kNN_indexarr[k-1]]):\n",
    "            condition = False\n",
    "            j=0\n",
    "            while (j<k and condition==False) :\n",
    "                if (dist_temp<Dist2kNN[Dist2kNN_indexarr[j]]):\n",
    "                    Dist2kNN_indexarr[j+1:k]= Dist2kNN_indexarr[j:k-1]\n",
    "                    Dist2kNN_indexarr[j]=i\n",
    "                    condition=True\n",
    "                else:\n",
    "                    j = j+1              \n",
    "                \n",
    "\n",
    "            \n",
    "    return Dist2kNN_indexarr"
   ]
  },
  {
   "cell_type": "code",
   "execution_count": 395,
   "metadata": {
    "collapsed": false
   },
   "outputs": [],
   "source": [
    "def KClosest_Training_Houses_full(k,training_houses_feature_matrix, query_house):\n",
    "    Dist2kNN =[]\n",
    "    Dist2kNN_indexarr=[]\n",
    "    arr_temp=[]\n",
    "    test_arr =[]\n",
    "    \n",
    "    for a in range(training_houses_feature_matrix.shape[0]):\n",
    "        dist =Calculate_Euclidean_distance (query_house,training_houses_feature_matrix[a])\n",
    "        Dist2kNN.append(dist)\n",
    "    test_arr = np.argsort(Dist2kNN)    \n",
    "    print test_arr[0:k]   \n",
    "    #print Dist2kNN\n",
    "        \n",
    "    for b in range(k):\n",
    "        arr_temp.append(Dist2kNN[b])        \n",
    "    \n",
    "    Dist2kNN_indexarr = np.argsort(arr_temp)\n",
    "        \n",
    "    #print Dist2kNN_indexarr\n",
    "    for i in range(k, training_houses_feature_matrix.shape[0]):\n",
    "    #for i in range(k, k+3000):\n",
    "        dist_temp = Calculate_Euclidean_distance(query_house,training_houses_feature_matrix[i])\n",
    "        #print \"dist_temp: \",dist_temp\n",
    "        #print Dist2kNN[Dist2kNN_indexarr[k-1]]\n",
    "        #j=0\n",
    "        if (dist_temp<Dist2kNN[Dist2kNN_indexarr[k-1]]):\n",
    "            condition = False\n",
    "            j=0\n",
    "            while (j<k and condition==False):\n",
    "                #print \"j: \",j , Dist2kNN_indexarr[j]\n",
    "                #print \"after\"\n",
    "                if (dist_temp<Dist2kNN[Dist2kNN_indexarr[j]]):\n",
    "                    #print \"in if\"\n",
    "                    Dist2kNN_indexarr[j+1:k]= Dist2kNN_indexarr[j:k-1]\n",
    "                    Dist2kNN_indexarr[j]=i\n",
    "                    condition=True\n",
    "                    print \"final Dist2kNN_indexarr: \",Dist2kNN_indexarr\n",
    "                else:\n",
    "                    #print \"else\"\n",
    "                    j = j+1                    \n",
    "                \n",
    "\n",
    "            \n",
    "    return Dist2kNN_indexarr"
   ]
  },
  {
   "cell_type": "code",
   "execution_count": 396,
   "metadata": {
    "collapsed": false
   },
   "outputs": [
    {
     "name": "stdout",
     "output_type": "stream",
     "text": [
      "[ 382 1149 4087 3142]\n",
      "final Dist2kNN_indexarr:  [3 0 4 2]\n",
      "final Dist2kNN_indexarr:  [3 5 0 4]\n",
      "final Dist2kNN_indexarr:  [6 3 5 0]\n",
      "final Dist2kNN_indexarr:  [6 8 3 5]\n",
      "final Dist2kNN_indexarr:  [ 6  8  3 12]\n",
      "final Dist2kNN_indexarr:  [ 6 15  8  3]\n",
      "final Dist2kNN_indexarr:  [ 6 18 15  8]\n",
      "final Dist2kNN_indexarr:  [ 6 18 30 15]\n",
      "final Dist2kNN_indexarr:  [ 6 18 38 30]\n",
      "final Dist2kNN_indexarr:  [ 6 18 38 41]\n",
      "final Dist2kNN_indexarr:  [ 6 18 38 47]\n",
      "final Dist2kNN_indexarr:  [ 6 77 18 38]\n",
      "final Dist2kNN_indexarr:  [ 6 88 77 18]\n",
      "final Dist2kNN_indexarr:  [ 6 88 77 90]\n",
      "final Dist2kNN_indexarr:  [  6  88 154  77]\n",
      "final Dist2kNN_indexarr:  [174   6  88 154]\n",
      "final Dist2kNN_indexarr:  [174   6 302  88]\n",
      "final Dist2kNN_indexarr:  [174 376   6 302]\n",
      "final Dist2kNN_indexarr:  [382 174 376   6]\n",
      "final Dist2kNN_indexarr:  [382 174 585 376]\n",
      "final Dist2kNN_indexarr:  [382 598 174 585]\n",
      "final Dist2kNN_indexarr:  [382 598 746 174]\n",
      "final Dist2kNN_indexarr:  [382 598 976 746]\n",
      "final Dist2kNN_indexarr:  [ 382 1149  598  976]\n",
      "final Dist2kNN_indexarr:  [ 382 1149 1666  598]\n",
      "final Dist2kNN_indexarr:  [ 382 1149 1666 2024]\n",
      "final Dist2kNN_indexarr:  [ 382 1149 1666 2283]\n",
      "final Dist2kNN_indexarr:  [ 382 1149 2751 1666]\n",
      "final Dist2kNN_indexarr:  [ 382 1149 3142 2751]\n",
      "final Dist2kNN_indexarr:  [ 382 1149 4087 3142]\n",
      "[ 382 1149 4087 3142]\n",
      "4\n"
     ]
    }
   ],
   "source": [
    "d = KClosest_Training_Houses_full(4,features_train, features_test[2])\n",
    "print d\n",
    "print len(d)\n"
   ]
  },
  {
   "cell_type": "code",
   "execution_count": 397,
   "metadata": {
    "collapsed": false
   },
   "outputs": [],
   "source": [
    "def KClosest_Training_Houses(k,training_houses_feature_matrix, query_house):\n",
    "    Dist2kNN =[]\n",
    "    Dist2kNN_indexarr=[]\n",
    "    test_arr =[]\n",
    "    \n",
    "    for a in range(training_houses_feature_matrix.shape[0]):\n",
    "        dist =Calculate_Euclidean_distance (query_house,training_houses_feature_matrix[a])\n",
    "        Dist2kNN.append(dist)\n",
    "    test_arr = np.argsort(Dist2kNN)    \n",
    "    Dist2kNN_indexarr = test_arr[0:k]   \n",
    "    return Dist2kNN_indexarr"
   ]
  },
  {
   "cell_type": "code",
   "execution_count": 399,
   "metadata": {
    "collapsed": false
   },
   "outputs": [
    {
     "name": "stdout",
     "output_type": "stream",
     "text": [
      "[ 382 1149 4087 3142]\n"
     ]
    }
   ],
   "source": [
    "d = KClosest_Training_Houses(4,features_train, features_test[2])\n",
    "print d"
   ]
  },
  {
   "cell_type": "markdown",
   "metadata": {},
   "source": [
    "## Make a single prediction by averaging k nearest neighbor outputs"
   ]
  },
  {
   "cell_type": "markdown",
   "metadata": {},
   "source": [
    "Now that we know how to find the k-nearest neighbors, write a function that predicts the value of a given query house. **For simplicity, take the average of the prices of the k nearest neighbors in the training set**. The function should have the following parameters:\n",
    " * the value of k;\n",
    " * the feature matrix for the training houses;\n",
    " * the output values (prices) of the training houses; and\n",
    " * the feature vector of the query house, whose price we are predicting.\n"
   ]
  },
  {
   "cell_type": "code",
   "execution_count": 31,
   "metadata": {
    "collapsed": true
   },
   "outputs": [],
   "source": [
    "def predict_kNN(k, training_houses_feature_matrix,output,query_house):\n",
    "    Dist2kNN_indexarr=[]\n",
    "    Dist2kNN_indexarr =KClosest_Training_Houses(k,training_houses_feature_matrix, query_house)\n",
    "    #print \"Dist2kNN_indexarr: \", Dist2kNN_indexarr\n",
    "    sum_price=0\n",
    "    for i in range(len(Dist2kNN_indexarr)):\n",
    "        #print i\n",
    "        #print Dist2kNN_indexarr[i]\n",
    "        sum_price=sum_price+ output_train[Dist2kNN_indexarr[i]]\n",
    "    average = sum_price/k\n",
    "    #print sum_price\n",
    "    return average\n",
    "    "
   ]
  },
  {
   "cell_type": "code",
   "execution_count": 401,
   "metadata": {
    "collapsed": false
   },
   "outputs": [
    {
     "name": "stdout",
     "output_type": "stream",
     "text": [
      "413987\n"
     ]
    }
   ],
   "source": [
    "k=4\n",
    "\n",
    "knn_predictedprice =(predict_kNN(k, features_train,output_train,features_test[2]))\n",
    "print knn_predictedprice\n"
   ]
  },
  {
   "cell_type": "markdown",
   "metadata": {},
   "source": [
    "Compare this predicted value using 4-nearest neighbors to the predicted value using 1-nearest neighbor computed earlier."
   ]
  },
  {
   "cell_type": "markdown",
   "metadata": {},
   "source": [
    "## Make multiple predictions"
   ]
  },
  {
   "cell_type": "markdown",
   "metadata": {},
   "source": [
    "Write a function to predict the value of *each and every* house in a query set. (The query set can be any subset of the dataset, be it the test set or validation set.) The idea is to have a loop where we take each house in the query set as the query house and make a prediction for that specific house. The new function should take the following parameters:\n",
    " * the value of k;\n",
    " * the feature matrix for the training houses;\n",
    " * the output values (prices) of the training houses; and\n",
    " * the feature matrix for the query set.\n",
    " \n",
    "The function should return a set of predicted values, one for each house in the query set.\n",
    "\n",
    "**Hint**: To get the number of houses in the query set, use the `.shape` field of the query features matrix. See [the documentation](http://docs.scipy.org/doc/numpy-1.10.1/reference/generated/numpy.ndarray.shape.html)."
   ]
  },
  {
   "cell_type": "code",
   "execution_count": 402,
   "metadata": {
    "collapsed": true
   },
   "outputs": [],
   "source": [
    "def predict_KNN_array(k, feature_matrix, output_train, query_set):\n",
    "    set_of_predicted_values=[]\n",
    "    for query in query_set:\n",
    "        predictedprice_i = predict_kNN(k, feature_matrix,output_train,query)\n",
    "        set_of_predicted_values.append(predictedprice_i)\n",
    "    return set_of_predicted_values\n",
    "    "
   ]
  },
  {
   "cell_type": "code",
   "execution_count": 403,
   "metadata": {
    "collapsed": false
   },
   "outputs": [
    {
     "data": {
      "text/plain": [
       "[881300,\n",
       " 431860,\n",
       " 460595,\n",
       " 430200,\n",
       " 766750,\n",
       " 667420,\n",
       " 350032,\n",
       " 512800,\n",
       " 484000,\n",
       " 457235]"
      ]
     },
     "execution_count": 403,
     "metadata": {},
     "output_type": "execute_result"
    }
   ],
   "source": [
    "query_set = features_test[0:10]\n",
    "predicted_arr =(predict_KNN_array(10, features_train, output_train, query_set))\n",
    "predicted_arr"
   ]
  },
  {
   "cell_type": "code",
   "execution_count": 326,
   "metadata": {
    "collapsed": false
   },
   "outputs": [
    {
     "name": "stdout",
     "output_type": "stream",
     "text": [
      "[3 9 2 1 6 8 4 5 7 0]\n"
     ]
    }
   ],
   "source": [
    "ans = np.argsort(predicted_arr)\n",
    "print ans"
   ]
  },
  {
   "cell_type": "markdown",
   "metadata": {},
   "source": [
    "## Choosing the best value of k using a validation set"
   ]
  },
  {
   "cell_type": "markdown",
   "metadata": {},
   "source": [
    "There remains a question of choosing the value of k to use in making predictions. Here, we use a validation set to choose this value. Write a loop that does the following:\n",
    "\n",
    "* For `k` in [1, 2, ..., 15]:\n",
    "    * Makes predictions for each house in the VALIDATION set using the k-nearest neighbors from the TRAINING set.\n",
    "    * Computes the RSS for these predictions on the VALIDATION set\n",
    "    * Stores the RSS computed above in `rss_all`\n",
    "* Report which `k` produced the lowest RSS on VALIDATION set."
   ]
  },
  {
   "cell_type": "markdown",
   "metadata": {},
   "source": [
    "features_train, output_train = get_numpy_data(train, feature_list, 'price')\n",
    "\n",
    "features_test, output_test = get_numpy_data(test, feature_list, 'price')\n",
    "\n",
    "features_valid, output_valid = get_numpy_data(validation, feature_list, 'price')"
   ]
  },
  {
   "cell_type": "markdown",
   "metadata": {},
   "source": [
    "(Depending on your computing environment, this computation may take 10-15 minutes.)"
   ]
  },
  {
   "cell_type": "code",
   "execution_count": 300,
   "metadata": {
    "collapsed": false
   },
   "outputs": [
    {
     "name": "stdout",
     "output_type": "stream",
     "text": [
      "[219225379089433, 172862910213237, 138506894858600, 129022559647650, 125399699384808, 118200704017114, 114003887794764, 111926585931102, 111191254030854, 107256140831229, 106282526152364, 104143273988285, 105206617995431, 103895375803890, 103615179363825]\n"
     ]
    }
   ],
   "source": [
    "query_set= features_valid\n",
    "out = output_valid \n",
    "RSS_arr =[]\n",
    "for k in range(1,16):\n",
    "    predict_arr=predict_KNN_array(k, features_train, output_train, query_set)\n",
    "    RSS = ((out - predict_arr)**2).sum()\n",
    "    RSS_arr.append(RSS)\n",
    "print RSS_arr\n",
    "    "
   ]
  },
  {
   "cell_type": "code",
   "execution_count": 301,
   "metadata": {
    "collapsed": false
   },
   "outputs": [
    {
     "name": "stdout",
     "output_type": "stream",
     "text": [
      "[14 13 11 12 10  9  8  7  6  5  4  3  2  1  0]\n"
     ]
    }
   ],
   "source": [
    "x = np.argsort(RSS_arr)\n",
    "print x"
   ]
  },
  {
   "cell_type": "markdown",
   "metadata": {
    "collapsed": false
   },
   "source": [
    "To visualize the performance as a function of `k`, plot the RSS on the VALIDATION set for each considered `k` value:"
   ]
  },
  {
   "cell_type": "code",
   "execution_count": 302,
   "metadata": {
    "collapsed": false
   },
   "outputs": [
    {
     "data": {
      "text/plain": [
       "[<matplotlib.lines.Line2D at 0x11118af90>]"
      ]
     },
     "execution_count": 302,
     "metadata": {},
     "output_type": "execute_result"
    },
    {
     "data": {
      "image/png": "[encoded data removed]",
      "text/plain": [
       "<matplotlib.figure.Figure at 0x110fba910>"
      ]
     },
     "metadata": {},
     "output_type": "display_data"
    }
   ],
   "source": [
    "import matplotlib.pyplot as plt\n",
    "%matplotlib inline\n",
    "rss_all = RSS_arr\n",
    "kvals = range(1, 16)\n",
    "plt.plot(kvals, rss_all,'bo-')"
   ]
  },
  {
   "cell_type": "code",
   "execution_count": null,
   "metadata": {
    "collapsed": true
   },
   "outputs": [],
   "source": []
  }
 ],
 "metadata": {
  "anaconda-cloud": {},
  "kernelspec": {
   "display_name": "Python [default]",
   "language": "python",
   "name": "python2"
  },
  "language_info": {
   "codemirror_mode": {
    "name": "ipython",
    "version": 2
   },
   "file_extension": ".py",
   "mimetype": "text/x-python",
   "name": "python",
   "nbconvert_exporter": "python",
   "pygments_lexer": "ipython2",
   "version": "2.7.11"
  }
 },
 "nbformat": 4,
 "nbformat_minor": 0
}
